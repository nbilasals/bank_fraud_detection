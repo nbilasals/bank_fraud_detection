{
 "cells": [
  {
   "cell_type": "code",
   "execution_count": 37,
   "id": "arbitrary-forty",
   "metadata": {
    "_cell_guid": "b1076dfc-b9ad-4769-8c92-a6c4dae69d19",
    "_uuid": "8f2839f25d086af736a60e9eeb907d3b93b6e0e5",
    "execution": {
     "iopub.execute_input": "2021-05-05T16:30:16.080876Z",
     "iopub.status.busy": "2021-05-05T16:30:16.079714Z",
     "iopub.status.idle": "2021-05-05T16:30:16.108292Z",
     "shell.execute_reply": "2021-05-05T16:30:16.107656Z"
    },
    "papermill": {
     "duration": 0.09646,
     "end_time": "2021-05-05T16:30:16.108457",
     "exception": false,
     "start_time": "2021-05-05T16:30:16.011997",
     "status": "completed"
    },
    "tags": []
   },
   "outputs": [],
   "source": [
    "import numpy as np \n",
    "import pandas as pd "
   ]
  },
  {
   "cell_type": "code",
   "execution_count": 38,
   "id": "seven-oregon",
   "metadata": {
    "execution": {
     "iopub.execute_input": "2021-05-05T16:30:16.371261Z",
     "iopub.status.busy": "2021-05-05T16:30:16.370533Z",
     "iopub.status.idle": "2021-05-05T16:30:18.031507Z",
     "shell.execute_reply": "2021-05-05T16:30:18.032072Z"
    },
    "papermill": {
     "duration": 1.731212,
     "end_time": "2021-05-05T16:30:18.032272",
     "exception": false,
     "start_time": "2021-05-05T16:30:16.301060",
     "status": "completed"
    },
    "tags": []
   },
   "outputs": [],
   "source": [
    "bank = pd.read_csv('bs140513_032310.csv')"
   ]
  },
  {
   "cell_type": "code",
   "execution_count": 39,
   "id": "desperate-artwork",
   "metadata": {
    "execution": {
     "iopub.execute_input": "2021-05-05T16:30:18.330367Z",
     "iopub.status.busy": "2021-05-05T16:30:18.329446Z",
     "iopub.status.idle": "2021-05-05T16:30:18.333548Z",
     "shell.execute_reply": "2021-05-05T16:30:18.333030Z"
    },
    "papermill": {
     "duration": 0.072376,
     "end_time": "2021-05-05T16:30:18.333684",
     "exception": false,
     "start_time": "2021-05-05T16:30:18.261308",
     "status": "completed"
    },
    "tags": []
   },
   "outputs": [
    {
     "data": {
      "text/plain": [
       "(594643, 10)"
      ]
     },
     "execution_count": 39,
     "metadata": {},
     "output_type": "execute_result"
    }
   ],
   "source": [
    "bank.shape "
   ]
  },
  {
   "cell_type": "code",
   "execution_count": 40,
   "id": "worthy-gasoline",
   "metadata": {
    "execution": {
     "iopub.execute_input": "2021-05-05T16:30:18.171845Z",
     "iopub.status.busy": "2021-05-05T16:30:18.164298Z",
     "iopub.status.idle": "2021-05-05T16:30:18.197055Z",
     "shell.execute_reply": "2021-05-05T16:30:18.197531Z"
    },
    "papermill": {
     "duration": 0.101028,
     "end_time": "2021-05-05T16:30:18.197691",
     "exception": false,
     "start_time": "2021-05-05T16:30:18.096663",
     "status": "completed"
    },
    "tags": []
   },
   "outputs": [
    {
     "data": {
      "text/html": [
       "<div>\n",
       "<style scoped>\n",
       "    .dataframe tbody tr th:only-of-type {\n",
       "        vertical-align: middle;\n",
       "    }\n",
       "\n",
       "    .dataframe tbody tr th {\n",
       "        vertical-align: top;\n",
       "    }\n",
       "\n",
       "    .dataframe thead th {\n",
       "        text-align: right;\n",
       "    }\n",
       "</style>\n",
       "<table border=\"1\" class=\"dataframe\">\n",
       "  <thead>\n",
       "    <tr style=\"text-align: right;\">\n",
       "      <th></th>\n",
       "      <th>step</th>\n",
       "      <th>customer</th>\n",
       "      <th>age</th>\n",
       "      <th>gender</th>\n",
       "      <th>zipcodeOri</th>\n",
       "      <th>merchant</th>\n",
       "      <th>zipMerchant</th>\n",
       "      <th>category</th>\n",
       "      <th>amount</th>\n",
       "      <th>fraud</th>\n",
       "    </tr>\n",
       "  </thead>\n",
       "  <tbody>\n",
       "    <tr>\n",
       "      <th>0</th>\n",
       "      <td>0</td>\n",
       "      <td>'C1093826151'</td>\n",
       "      <td>'4'</td>\n",
       "      <td>'M'</td>\n",
       "      <td>'28007'</td>\n",
       "      <td>'M348934600'</td>\n",
       "      <td>'28007'</td>\n",
       "      <td>'es_transportation'</td>\n",
       "      <td>4.55</td>\n",
       "      <td>0</td>\n",
       "    </tr>\n",
       "    <tr>\n",
       "      <th>1</th>\n",
       "      <td>0</td>\n",
       "      <td>'C352968107'</td>\n",
       "      <td>'2'</td>\n",
       "      <td>'M'</td>\n",
       "      <td>'28007'</td>\n",
       "      <td>'M348934600'</td>\n",
       "      <td>'28007'</td>\n",
       "      <td>'es_transportation'</td>\n",
       "      <td>39.68</td>\n",
       "      <td>0</td>\n",
       "    </tr>\n",
       "    <tr>\n",
       "      <th>2</th>\n",
       "      <td>0</td>\n",
       "      <td>'C2054744914'</td>\n",
       "      <td>'4'</td>\n",
       "      <td>'F'</td>\n",
       "      <td>'28007'</td>\n",
       "      <td>'M1823072687'</td>\n",
       "      <td>'28007'</td>\n",
       "      <td>'es_transportation'</td>\n",
       "      <td>26.89</td>\n",
       "      <td>0</td>\n",
       "    </tr>\n",
       "    <tr>\n",
       "      <th>3</th>\n",
       "      <td>0</td>\n",
       "      <td>'C1760612790'</td>\n",
       "      <td>'3'</td>\n",
       "      <td>'M'</td>\n",
       "      <td>'28007'</td>\n",
       "      <td>'M348934600'</td>\n",
       "      <td>'28007'</td>\n",
       "      <td>'es_transportation'</td>\n",
       "      <td>17.25</td>\n",
       "      <td>0</td>\n",
       "    </tr>\n",
       "    <tr>\n",
       "      <th>4</th>\n",
       "      <td>0</td>\n",
       "      <td>'C757503768'</td>\n",
       "      <td>'5'</td>\n",
       "      <td>'M'</td>\n",
       "      <td>'28007'</td>\n",
       "      <td>'M348934600'</td>\n",
       "      <td>'28007'</td>\n",
       "      <td>'es_transportation'</td>\n",
       "      <td>35.72</td>\n",
       "      <td>0</td>\n",
       "    </tr>\n",
       "  </tbody>\n",
       "</table>\n",
       "</div>"
      ],
      "text/plain": [
       "   step       customer  age gender zipcodeOri       merchant zipMerchant  \\\n",
       "0     0  'C1093826151'  '4'    'M'    '28007'   'M348934600'     '28007'   \n",
       "1     0   'C352968107'  '2'    'M'    '28007'   'M348934600'     '28007'   \n",
       "2     0  'C2054744914'  '4'    'F'    '28007'  'M1823072687'     '28007'   \n",
       "3     0  'C1760612790'  '3'    'M'    '28007'   'M348934600'     '28007'   \n",
       "4     0   'C757503768'  '5'    'M'    '28007'   'M348934600'     '28007'   \n",
       "\n",
       "              category  amount  fraud  \n",
       "0  'es_transportation'    4.55      0  \n",
       "1  'es_transportation'   39.68      0  \n",
       "2  'es_transportation'   26.89      0  \n",
       "3  'es_transportation'   17.25      0  \n",
       "4  'es_transportation'   35.72      0  "
      ]
     },
     "execution_count": 40,
     "metadata": {},
     "output_type": "execute_result"
    }
   ],
   "source": [
    "bank.head()"
   ]
  },
  {
   "cell_type": "code",
   "execution_count": 41,
   "id": "4bbaf33e",
   "metadata": {},
   "outputs": [
    {
     "name": "stdout",
     "output_type": "stream",
     "text": [
      "Dataset Shape =  (594643, 10)\n",
      "Dataset Label =  [0 1]\n",
      "Null Values =  step           0\n",
      "customer       0\n",
      "age            0\n",
      "gender         0\n",
      "zipcodeOri     0\n",
      "merchant       0\n",
      "zipMerchant    0\n",
      "category       0\n",
      "amount         0\n",
      "fraud          0\n",
      "dtype: int64\n"
     ]
    }
   ],
   "source": [
    "print(\"Dataset Shape = \", bank.shape)\n",
    "print(\"Dataset Label = \", bank.fraud.unique())\n",
    "print('Null Values = ', bank.isnull().sum())"
   ]
  },
  {
   "cell_type": "code",
   "execution_count": 42,
   "id": "fe5f6177",
   "metadata": {},
   "outputs": [
    {
     "data": {
      "text/html": [
       "<div>\n",
       "<style scoped>\n",
       "    .dataframe tbody tr th:only-of-type {\n",
       "        vertical-align: middle;\n",
       "    }\n",
       "\n",
       "    .dataframe tbody tr th {\n",
       "        vertical-align: top;\n",
       "    }\n",
       "\n",
       "    .dataframe thead th {\n",
       "        text-align: right;\n",
       "    }\n",
       "</style>\n",
       "<table border=\"1\" class=\"dataframe\">\n",
       "  <thead>\n",
       "    <tr style=\"text-align: right;\">\n",
       "      <th></th>\n",
       "      <th>Column</th>\n",
       "      <th>Missing values</th>\n",
       "      <th>Unique values</th>\n",
       "      <th>Data type</th>\n",
       "    </tr>\n",
       "  </thead>\n",
       "  <tbody>\n",
       "    <tr>\n",
       "      <th>0</th>\n",
       "      <td>step</td>\n",
       "      <td>0</td>\n",
       "      <td>180</td>\n",
       "      <td>int64</td>\n",
       "    </tr>\n",
       "    <tr>\n",
       "      <th>1</th>\n",
       "      <td>customer</td>\n",
       "      <td>0</td>\n",
       "      <td>4112</td>\n",
       "      <td>object</td>\n",
       "    </tr>\n",
       "    <tr>\n",
       "      <th>2</th>\n",
       "      <td>age</td>\n",
       "      <td>0</td>\n",
       "      <td>8</td>\n",
       "      <td>object</td>\n",
       "    </tr>\n",
       "    <tr>\n",
       "      <th>3</th>\n",
       "      <td>gender</td>\n",
       "      <td>0</td>\n",
       "      <td>4</td>\n",
       "      <td>object</td>\n",
       "    </tr>\n",
       "    <tr>\n",
       "      <th>4</th>\n",
       "      <td>zipcodeOri</td>\n",
       "      <td>0</td>\n",
       "      <td>1</td>\n",
       "      <td>object</td>\n",
       "    </tr>\n",
       "    <tr>\n",
       "      <th>5</th>\n",
       "      <td>merchant</td>\n",
       "      <td>0</td>\n",
       "      <td>50</td>\n",
       "      <td>object</td>\n",
       "    </tr>\n",
       "    <tr>\n",
       "      <th>6</th>\n",
       "      <td>zipMerchant</td>\n",
       "      <td>0</td>\n",
       "      <td>1</td>\n",
       "      <td>object</td>\n",
       "    </tr>\n",
       "    <tr>\n",
       "      <th>7</th>\n",
       "      <td>category</td>\n",
       "      <td>0</td>\n",
       "      <td>15</td>\n",
       "      <td>object</td>\n",
       "    </tr>\n",
       "    <tr>\n",
       "      <th>8</th>\n",
       "      <td>amount</td>\n",
       "      <td>0</td>\n",
       "      <td>23767</td>\n",
       "      <td>float64</td>\n",
       "    </tr>\n",
       "    <tr>\n",
       "      <th>9</th>\n",
       "      <td>fraud</td>\n",
       "      <td>0</td>\n",
       "      <td>2</td>\n",
       "      <td>int64</td>\n",
       "    </tr>\n",
       "  </tbody>\n",
       "</table>\n",
       "</div>"
      ],
      "text/plain": [
       "        Column  Missing values  Unique values Data type\n",
       "0         step               0            180     int64\n",
       "1     customer               0           4112    object\n",
       "2          age               0              8    object\n",
       "3       gender               0              4    object\n",
       "4   zipcodeOri               0              1    object\n",
       "5     merchant               0             50    object\n",
       "6  zipMerchant               0              1    object\n",
       "7     category               0             15    object\n",
       "8       amount               0          23767   float64\n",
       "9        fraud               0              2     int64"
      ]
     },
     "execution_count": 42,
     "metadata": {},
     "output_type": "execute_result"
    }
   ],
   "source": [
    "col_summary = pd.DataFrame(bank.columns, columns = ['Column'])\n",
    "na_list = []\n",
    "unique_list = []\n",
    "dtype_list = []\n",
    "\n",
    "for col in bank.columns:\n",
    "    na_list.append(bank[col].isna().sum())\n",
    "    unique_list.append(bank[col].nunique())\n",
    "    dtype_list.append(bank[col].dtype)\n",
    "    \n",
    "col_summary['Missing values'] = na_list\n",
    "col_summary['Unique values'] = unique_list\n",
    "col_summary['Data type'] = dtype_list\n",
    "col_summary"
   ]
  },
  {
   "cell_type": "code",
   "execution_count": 43,
   "id": "different-logic",
   "metadata": {
    "execution": {
     "iopub.execute_input": "2021-05-05T16:30:18.466661Z",
     "iopub.status.busy": "2021-05-05T16:30:18.466057Z",
     "iopub.status.idle": "2021-05-05T16:30:18.895231Z",
     "shell.execute_reply": "2021-05-05T16:30:18.896225Z"
    },
    "papermill": {
     "duration": 0.498824,
     "end_time": "2021-05-05T16:30:18.896564",
     "exception": false,
     "start_time": "2021-05-05T16:30:18.397740",
     "status": "completed"
    },
    "tags": []
   },
   "outputs": [
    {
     "name": "stdout",
     "output_type": "stream",
     "text": [
      "<class 'pandas.core.frame.DataFrame'>\n",
      "RangeIndex: 594643 entries, 0 to 594642\n",
      "Data columns (total 10 columns):\n",
      " #   Column       Non-Null Count   Dtype  \n",
      "---  ------       --------------   -----  \n",
      " 0   step         594643 non-null  int64  \n",
      " 1   customer     594643 non-null  object \n",
      " 2   age          594643 non-null  object \n",
      " 3   gender       594643 non-null  object \n",
      " 4   zipcodeOri   594643 non-null  object \n",
      " 5   merchant     594643 non-null  object \n",
      " 6   zipMerchant  594643 non-null  object \n",
      " 7   category     594643 non-null  object \n",
      " 8   amount       594643 non-null  float64\n",
      " 9   fraud        594643 non-null  int64  \n",
      "dtypes: float64(1), int64(2), object(7)\n",
      "memory usage: 45.4+ MB\n"
     ]
    }
   ],
   "source": [
    "bank.info()  "
   ]
  },
  {
   "cell_type": "code",
   "execution_count": 44,
   "id": "authentic-teach",
   "metadata": {
    "execution": {
     "iopub.execute_input": "2021-05-05T16:30:19.030167Z",
     "iopub.status.busy": "2021-05-05T16:30:19.029555Z",
     "iopub.status.idle": "2021-05-05T16:30:19.134887Z",
     "shell.execute_reply": "2021-05-05T16:30:19.134377Z"
    },
    "papermill": {
     "duration": 0.172344,
     "end_time": "2021-05-05T16:30:19.135043",
     "exception": false,
     "start_time": "2021-05-05T16:30:18.962699",
     "status": "completed"
    },
    "tags": []
   },
   "outputs": [
    {
     "data": {
      "text/html": [
       "<div>\n",
       "<style scoped>\n",
       "    .dataframe tbody tr th:only-of-type {\n",
       "        vertical-align: middle;\n",
       "    }\n",
       "\n",
       "    .dataframe tbody tr th {\n",
       "        vertical-align: top;\n",
       "    }\n",
       "\n",
       "    .dataframe thead th {\n",
       "        text-align: right;\n",
       "    }\n",
       "</style>\n",
       "<table border=\"1\" class=\"dataframe\">\n",
       "  <thead>\n",
       "    <tr style=\"text-align: right;\">\n",
       "      <th></th>\n",
       "      <th>step</th>\n",
       "      <th>amount</th>\n",
       "      <th>fraud</th>\n",
       "    </tr>\n",
       "  </thead>\n",
       "  <tbody>\n",
       "    <tr>\n",
       "      <th>count</th>\n",
       "      <td>594643.000000</td>\n",
       "      <td>594643.000000</td>\n",
       "      <td>594643.000000</td>\n",
       "    </tr>\n",
       "    <tr>\n",
       "      <th>mean</th>\n",
       "      <td>94.986827</td>\n",
       "      <td>37.890135</td>\n",
       "      <td>0.012108</td>\n",
       "    </tr>\n",
       "    <tr>\n",
       "      <th>std</th>\n",
       "      <td>51.053632</td>\n",
       "      <td>111.402831</td>\n",
       "      <td>0.109369</td>\n",
       "    </tr>\n",
       "    <tr>\n",
       "      <th>min</th>\n",
       "      <td>0.000000</td>\n",
       "      <td>0.000000</td>\n",
       "      <td>0.000000</td>\n",
       "    </tr>\n",
       "    <tr>\n",
       "      <th>25%</th>\n",
       "      <td>52.000000</td>\n",
       "      <td>13.740000</td>\n",
       "      <td>0.000000</td>\n",
       "    </tr>\n",
       "    <tr>\n",
       "      <th>50%</th>\n",
       "      <td>97.000000</td>\n",
       "      <td>26.900000</td>\n",
       "      <td>0.000000</td>\n",
       "    </tr>\n",
       "    <tr>\n",
       "      <th>75%</th>\n",
       "      <td>139.000000</td>\n",
       "      <td>42.540000</td>\n",
       "      <td>0.000000</td>\n",
       "    </tr>\n",
       "    <tr>\n",
       "      <th>max</th>\n",
       "      <td>179.000000</td>\n",
       "      <td>8329.960000</td>\n",
       "      <td>1.000000</td>\n",
       "    </tr>\n",
       "  </tbody>\n",
       "</table>\n",
       "</div>"
      ],
      "text/plain": [
       "                step         amount          fraud\n",
       "count  594643.000000  594643.000000  594643.000000\n",
       "mean       94.986827      37.890135       0.012108\n",
       "std        51.053632     111.402831       0.109369\n",
       "min         0.000000       0.000000       0.000000\n",
       "25%        52.000000      13.740000       0.000000\n",
       "50%        97.000000      26.900000       0.000000\n",
       "75%       139.000000      42.540000       0.000000\n",
       "max       179.000000    8329.960000       1.000000"
      ]
     },
     "execution_count": 44,
     "metadata": {},
     "output_type": "execute_result"
    }
   ],
   "source": [
    "bank.describe()"
   ]
  },
  {
   "cell_type": "code",
   "execution_count": 45,
   "id": "split-powell",
   "metadata": {
    "execution": {
     "iopub.execute_input": "2021-05-05T16:30:19.822585Z",
     "iopub.status.busy": "2021-05-05T16:30:19.821851Z",
     "iopub.status.idle": "2021-05-05T16:30:19.860589Z",
     "shell.execute_reply": "2021-05-05T16:30:19.861087Z"
    },
    "papermill": {
     "duration": 0.111479,
     "end_time": "2021-05-05T16:30:19.861268",
     "exception": false,
     "start_time": "2021-05-05T16:30:19.749789",
     "status": "completed"
    },
    "tags": []
   },
   "outputs": [
    {
     "data": {
      "text/html": [
       "<div>\n",
       "<style scoped>\n",
       "    .dataframe tbody tr th:only-of-type {\n",
       "        vertical-align: middle;\n",
       "    }\n",
       "\n",
       "    .dataframe tbody tr th {\n",
       "        vertical-align: top;\n",
       "    }\n",
       "\n",
       "    .dataframe thead th {\n",
       "        text-align: right;\n",
       "    }\n",
       "</style>\n",
       "<table border=\"1\" class=\"dataframe\">\n",
       "  <thead>\n",
       "    <tr style=\"text-align: right;\">\n",
       "      <th></th>\n",
       "      <th>step</th>\n",
       "      <th>amount</th>\n",
       "      <th>fraud</th>\n",
       "    </tr>\n",
       "  </thead>\n",
       "  <tbody>\n",
       "    <tr>\n",
       "      <th>step</th>\n",
       "      <td>1.000000</td>\n",
       "      <td>-0.007961</td>\n",
       "      <td>-0.011898</td>\n",
       "    </tr>\n",
       "    <tr>\n",
       "      <th>amount</th>\n",
       "      <td>-0.007961</td>\n",
       "      <td>1.000000</td>\n",
       "      <td>0.489967</td>\n",
       "    </tr>\n",
       "    <tr>\n",
       "      <th>fraud</th>\n",
       "      <td>-0.011898</td>\n",
       "      <td>0.489967</td>\n",
       "      <td>1.000000</td>\n",
       "    </tr>\n",
       "  </tbody>\n",
       "</table>\n",
       "</div>"
      ],
      "text/plain": [
       "            step    amount     fraud\n",
       "step    1.000000 -0.007961 -0.011898\n",
       "amount -0.007961  1.000000  0.489967\n",
       "fraud  -0.011898  0.489967  1.000000"
      ]
     },
     "execution_count": 45,
     "metadata": {},
     "output_type": "execute_result"
    }
   ],
   "source": [
    "bank.corr()  "
   ]
  },
  {
   "cell_type": "code",
   "execution_count": 46,
   "id": "infinite-screen",
   "metadata": {
    "execution": {
     "iopub.execute_input": "2021-05-05T16:30:20.000555Z",
     "iopub.status.busy": "2021-05-05T16:30:19.999873Z",
     "iopub.status.idle": "2021-05-05T16:30:20.871386Z",
     "shell.execute_reply": "2021-05-05T16:30:20.870383Z"
    },
    "papermill": {
     "duration": 0.943014,
     "end_time": "2021-05-05T16:30:20.871537",
     "exception": false,
     "start_time": "2021-05-05T16:30:19.928523",
     "status": "completed"
    },
    "tags": []
   },
   "outputs": [],
   "source": [
    "import seaborn as sns\n",
    "import matplotlib.pyplot as plt  # import visualization module "
   ]
  },
  {
   "cell_type": "code",
   "execution_count": 47,
   "id": "productive-watch",
   "metadata": {
    "execution": {
     "iopub.execute_input": "2021-05-05T16:30:21.009470Z",
     "iopub.status.busy": "2021-05-05T16:30:21.008515Z",
     "iopub.status.idle": "2021-05-05T16:30:21.013799Z",
     "shell.execute_reply": "2021-05-05T16:30:21.014333Z"
    },
    "papermill": {
     "duration": 0.07555,
     "end_time": "2021-05-05T16:30:21.014501",
     "exception": false,
     "start_time": "2021-05-05T16:30:20.938951",
     "status": "completed"
    },
    "tags": []
   },
   "outputs": [],
   "source": [
    "%matplotlib inline"
   ]
  },
  {
   "cell_type": "markdown",
   "id": "further-worse",
   "metadata": {
    "papermill": {
     "duration": 0.067572,
     "end_time": "2021-05-05T16:30:21.149788",
     "exception": false,
     "start_time": "2021-05-05T16:30:21.082216",
     "status": "completed"
    },
    "tags": []
   },
   "source": [
    "**Visualization of fraud transaction**"
   ]
  },
  {
   "cell_type": "code",
   "execution_count": 48,
   "id": "vertical-england",
   "metadata": {
    "execution": {
     "iopub.execute_input": "2021-05-05T16:30:21.289459Z",
     "iopub.status.busy": "2021-05-05T16:30:21.288450Z",
     "iopub.status.idle": "2021-05-05T16:30:21.493268Z",
     "shell.execute_reply": "2021-05-05T16:30:21.493747Z"
    },
    "papermill": {
     "duration": 0.277391,
     "end_time": "2021-05-05T16:30:21.493936",
     "exception": false,
     "start_time": "2021-05-05T16:30:21.216545",
     "status": "completed"
    },
    "tags": []
   },
   "outputs": [
    {
     "name": "stdout",
     "output_type": "stream",
     "text": [
      "0    587443\n",
      "1      7200\n",
      "Name: fraud, dtype: int64\n"
     ]
    },
    {
     "data": {
      "text/plain": [
       "<AxesSubplot:xlabel='fraud', ylabel='count'>"
      ]
     },
     "execution_count": 48,
     "metadata": {},
     "output_type": "execute_result"
    },
    {
     "data": {
      "image/png": "[encoded data removed]",
      "text/plain": [
       "<Figure size 432x288 with 1 Axes>"
      ]
     },
     "metadata": {
      "needs_background": "light"
     },
     "output_type": "display_data"
    }
   ],
   "source": [
    "print(bank['fraud'].value_counts())\n",
    "sns.countplot(x='fraud',data=bank)  # visualization of fraud transactions "
   ]
  },
  {
   "cell_type": "code",
   "execution_count": 49,
   "id": "quarterly-bernard",
   "metadata": {
    "execution": {
     "iopub.execute_input": "2021-05-05T16:30:21.633883Z",
     "iopub.status.busy": "2021-05-05T16:30:21.632892Z",
     "iopub.status.idle": "2021-05-05T16:30:21.721037Z",
     "shell.execute_reply": "2021-05-05T16:30:21.721476Z"
    },
    "papermill": {
     "duration": 0.159675,
     "end_time": "2021-05-05T16:30:21.721647",
     "exception": false,
     "start_time": "2021-05-05T16:30:21.561972",
     "status": "completed"
    },
    "tags": []
   },
   "outputs": [
    {
     "data": {
      "text/html": [
       "<div>\n",
       "<style scoped>\n",
       "    .dataframe tbody tr th:only-of-type {\n",
       "        vertical-align: middle;\n",
       "    }\n",
       "\n",
       "    .dataframe tbody tr th {\n",
       "        vertical-align: top;\n",
       "    }\n",
       "\n",
       "    .dataframe thead th {\n",
       "        text-align: right;\n",
       "    }\n",
       "</style>\n",
       "<table border=\"1\" class=\"dataframe\">\n",
       "  <thead>\n",
       "    <tr style=\"text-align: right;\">\n",
       "      <th></th>\n",
       "      <th>amount</th>\n",
       "      <th>fraud</th>\n",
       "    </tr>\n",
       "    <tr>\n",
       "      <th>category</th>\n",
       "      <th></th>\n",
       "      <th></th>\n",
       "    </tr>\n",
       "  </thead>\n",
       "  <tbody>\n",
       "    <tr>\n",
       "      <th>'es_barsandrestaurants'</th>\n",
       "      <td>276977.04</td>\n",
       "      <td>120</td>\n",
       "    </tr>\n",
       "    <tr>\n",
       "      <th>'es_contents'</th>\n",
       "      <td>39424.60</td>\n",
       "      <td>0</td>\n",
       "    </tr>\n",
       "    <tr>\n",
       "      <th>'es_fashion'</th>\n",
       "      <td>423812.51</td>\n",
       "      <td>116</td>\n",
       "    </tr>\n",
       "    <tr>\n",
       "      <th>'es_food'</th>\n",
       "      <td>973246.41</td>\n",
       "      <td>0</td>\n",
       "    </tr>\n",
       "    <tr>\n",
       "      <th>'es_health'</th>\n",
       "      <td>2187979.51</td>\n",
       "      <td>1696</td>\n",
       "    </tr>\n",
       "    <tr>\n",
       "      <th>'es_home'</th>\n",
       "      <td>329022.30</td>\n",
       "      <td>302</td>\n",
       "    </tr>\n",
       "    <tr>\n",
       "      <th>'es_hotelservices'</th>\n",
       "      <td>358591.25</td>\n",
       "      <td>548</td>\n",
       "    </tr>\n",
       "    <tr>\n",
       "      <th>'es_hyper'</th>\n",
       "      <td>280327.63</td>\n",
       "      <td>280</td>\n",
       "    </tr>\n",
       "    <tr>\n",
       "      <th>'es_leisure'</th>\n",
       "      <td>144166.74</td>\n",
       "      <td>474</td>\n",
       "    </tr>\n",
       "    <tr>\n",
       "      <th>'es_otherservices'</th>\n",
       "      <td>123923.95</td>\n",
       "      <td>228</td>\n",
       "    </tr>\n",
       "    <tr>\n",
       "      <th>'es_sportsandtoys'</th>\n",
       "      <td>863292.55</td>\n",
       "      <td>1982</td>\n",
       "    </tr>\n",
       "    <tr>\n",
       "      <th>'es_tech'</th>\n",
       "      <td>286646.61</td>\n",
       "      <td>158</td>\n",
       "    </tr>\n",
       "    <tr>\n",
       "      <th>'es_transportation'</th>\n",
       "      <td>13617092.46</td>\n",
       "      <td>0</td>\n",
       "    </tr>\n",
       "    <tr>\n",
       "      <th>'es_travel'</th>\n",
       "      <td>1638297.89</td>\n",
       "      <td>578</td>\n",
       "    </tr>\n",
       "    <tr>\n",
       "      <th>'es_wellnessandbeauty'</th>\n",
       "      <td>988302.28</td>\n",
       "      <td>718</td>\n",
       "    </tr>\n",
       "  </tbody>\n",
       "</table>\n",
       "</div>"
      ],
      "text/plain": [
       "                              amount  fraud\n",
       "category                                   \n",
       "'es_barsandrestaurants'    276977.04    120\n",
       "'es_contents'               39424.60      0\n",
       "'es_fashion'               423812.51    116\n",
       "'es_food'                  973246.41      0\n",
       "'es_health'               2187979.51   1696\n",
       "'es_home'                  329022.30    302\n",
       "'es_hotelservices'         358591.25    548\n",
       "'es_hyper'                 280327.63    280\n",
       "'es_leisure'               144166.74    474\n",
       "'es_otherservices'         123923.95    228\n",
       "'es_sportsandtoys'         863292.55   1982\n",
       "'es_tech'                  286646.61    158\n",
       "'es_transportation'      13617092.46      0\n",
       "'es_travel'               1638297.89    578\n",
       "'es_wellnessandbeauty'     988302.28    718"
      ]
     },
     "execution_count": 49,
     "metadata": {},
     "output_type": "execute_result"
    }
   ],
   "source": [
    "bank.groupby('category')[['amount','fraud']].sum() "
   ]
  },
  {
   "cell_type": "code",
   "execution_count": 50,
   "id": "virgin-dover",
   "metadata": {
    "execution": {
     "iopub.execute_input": "2021-05-05T16:30:21.863879Z",
     "iopub.status.busy": "2021-05-05T16:30:21.862924Z",
     "iopub.status.idle": "2021-05-05T16:30:21.955168Z",
     "shell.execute_reply": "2021-05-05T16:30:21.954647Z"
    },
    "papermill": {
     "duration": 0.165174,
     "end_time": "2021-05-05T16:30:21.955311",
     "exception": false,
     "start_time": "2021-05-05T16:30:21.790137",
     "status": "completed"
    },
    "tags": []
   },
   "outputs": [
    {
     "data": {
      "text/html": [
       "<div>\n",
       "<style scoped>\n",
       "    .dataframe tbody tr th:only-of-type {\n",
       "        vertical-align: middle;\n",
       "    }\n",
       "\n",
       "    .dataframe tbody tr th {\n",
       "        vertical-align: top;\n",
       "    }\n",
       "\n",
       "    .dataframe thead th {\n",
       "        text-align: right;\n",
       "    }\n",
       "</style>\n",
       "<table border=\"1\" class=\"dataframe\">\n",
       "  <thead>\n",
       "    <tr style=\"text-align: right;\">\n",
       "      <th></th>\n",
       "      <th>amount</th>\n",
       "      <th>fraud</th>\n",
       "    </tr>\n",
       "    <tr>\n",
       "      <th>category</th>\n",
       "      <th></th>\n",
       "      <th></th>\n",
       "    </tr>\n",
       "  </thead>\n",
       "  <tbody>\n",
       "    <tr>\n",
       "      <th>'es_barsandrestaurants'</th>\n",
       "      <td>43.461014</td>\n",
       "      <td>0.018829</td>\n",
       "    </tr>\n",
       "    <tr>\n",
       "      <th>'es_contents'</th>\n",
       "      <td>44.547571</td>\n",
       "      <td>0.000000</td>\n",
       "    </tr>\n",
       "    <tr>\n",
       "      <th>'es_fashion'</th>\n",
       "      <td>65.666642</td>\n",
       "      <td>0.017973</td>\n",
       "    </tr>\n",
       "    <tr>\n",
       "      <th>'es_food'</th>\n",
       "      <td>37.070405</td>\n",
       "      <td>0.000000</td>\n",
       "    </tr>\n",
       "    <tr>\n",
       "      <th>'es_health'</th>\n",
       "      <td>135.621367</td>\n",
       "      <td>0.105126</td>\n",
       "    </tr>\n",
       "    <tr>\n",
       "      <th>'es_home'</th>\n",
       "      <td>165.670846</td>\n",
       "      <td>0.152064</td>\n",
       "    </tr>\n",
       "    <tr>\n",
       "      <th>'es_hotelservices'</th>\n",
       "      <td>205.614249</td>\n",
       "      <td>0.314220</td>\n",
       "    </tr>\n",
       "    <tr>\n",
       "      <th>'es_hyper'</th>\n",
       "      <td>45.970421</td>\n",
       "      <td>0.045917</td>\n",
       "    </tr>\n",
       "    <tr>\n",
       "      <th>'es_leisure'</th>\n",
       "      <td>288.911303</td>\n",
       "      <td>0.949900</td>\n",
       "    </tr>\n",
       "    <tr>\n",
       "      <th>'es_otherservices'</th>\n",
       "      <td>135.881524</td>\n",
       "      <td>0.250000</td>\n",
       "    </tr>\n",
       "    <tr>\n",
       "      <th>'es_sportsandtoys'</th>\n",
       "      <td>215.715280</td>\n",
       "      <td>0.495252</td>\n",
       "    </tr>\n",
       "    <tr>\n",
       "      <th>'es_tech'</th>\n",
       "      <td>120.947937</td>\n",
       "      <td>0.066667</td>\n",
       "    </tr>\n",
       "    <tr>\n",
       "      <th>'es_transportation'</th>\n",
       "      <td>26.958187</td>\n",
       "      <td>0.000000</td>\n",
       "    </tr>\n",
       "    <tr>\n",
       "      <th>'es_travel'</th>\n",
       "      <td>2250.409190</td>\n",
       "      <td>0.793956</td>\n",
       "    </tr>\n",
       "    <tr>\n",
       "      <th>'es_wellnessandbeauty'</th>\n",
       "      <td>65.511221</td>\n",
       "      <td>0.047594</td>\n",
       "    </tr>\n",
       "  </tbody>\n",
       "</table>\n",
       "</div>"
      ],
      "text/plain": [
       "                              amount     fraud\n",
       "category                                      \n",
       "'es_barsandrestaurants'    43.461014  0.018829\n",
       "'es_contents'              44.547571  0.000000\n",
       "'es_fashion'               65.666642  0.017973\n",
       "'es_food'                  37.070405  0.000000\n",
       "'es_health'               135.621367  0.105126\n",
       "'es_home'                 165.670846  0.152064\n",
       "'es_hotelservices'        205.614249  0.314220\n",
       "'es_hyper'                 45.970421  0.045917\n",
       "'es_leisure'              288.911303  0.949900\n",
       "'es_otherservices'        135.881524  0.250000\n",
       "'es_sportsandtoys'        215.715280  0.495252\n",
       "'es_tech'                 120.947937  0.066667\n",
       "'es_transportation'        26.958187  0.000000\n",
       "'es_travel'              2250.409190  0.793956\n",
       "'es_wellnessandbeauty'     65.511221  0.047594"
      ]
     },
     "execution_count": 50,
     "metadata": {},
     "output_type": "execute_result"
    }
   ],
   "source": [
    "# groupby the categories and their respective amount and fraud mean\n",
    "bank.groupby('category')[['amount','fraud']].mean()"
   ]
  },
  {
   "cell_type": "code",
   "execution_count": 51,
   "id": "accomplished-webmaster",
   "metadata": {
    "execution": {
     "iopub.execute_input": "2021-05-05T16:30:22.102090Z",
     "iopub.status.busy": "2021-05-05T16:30:22.101414Z",
     "iopub.status.idle": "2021-05-05T16:30:22.185944Z",
     "shell.execute_reply": "2021-05-05T16:30:22.185405Z"
    },
    "papermill": {
     "duration": 0.160158,
     "end_time": "2021-05-05T16:30:22.186094",
     "exception": false,
     "start_time": "2021-05-05T16:30:22.025936",
     "status": "completed"
    },
    "tags": []
   },
   "outputs": [
    {
     "data": {
      "text/html": [
       "<div>\n",
       "<style scoped>\n",
       "    .dataframe tbody tr th:only-of-type {\n",
       "        vertical-align: middle;\n",
       "    }\n",
       "\n",
       "    .dataframe tbody tr th {\n",
       "        vertical-align: top;\n",
       "    }\n",
       "\n",
       "    .dataframe thead th {\n",
       "        text-align: right;\n",
       "    }\n",
       "</style>\n",
       "<table border=\"1\" class=\"dataframe\">\n",
       "  <thead>\n",
       "    <tr style=\"text-align: right;\">\n",
       "      <th></th>\n",
       "      <th>age</th>\n",
       "      <th>fraud_percent</th>\n",
       "    </tr>\n",
       "  </thead>\n",
       "  <tbody>\n",
       "    <tr>\n",
       "      <th>7</th>\n",
       "      <td>'U'</td>\n",
       "      <td>0.594228</td>\n",
       "    </tr>\n",
       "    <tr>\n",
       "      <th>6</th>\n",
       "      <td>'6'</td>\n",
       "      <td>0.974826</td>\n",
       "    </tr>\n",
       "    <tr>\n",
       "      <th>5</th>\n",
       "      <td>'5'</td>\n",
       "      <td>1.095112</td>\n",
       "    </tr>\n",
       "    <tr>\n",
       "      <th>4</th>\n",
       "      <td>'4'</td>\n",
       "      <td>1.293281</td>\n",
       "    </tr>\n",
       "    <tr>\n",
       "      <th>3</th>\n",
       "      <td>'3'</td>\n",
       "      <td>1.192815</td>\n",
       "    </tr>\n",
       "    <tr>\n",
       "      <th>2</th>\n",
       "      <td>'2'</td>\n",
       "      <td>1.251401</td>\n",
       "    </tr>\n",
       "    <tr>\n",
       "      <th>1</th>\n",
       "      <td>'1'</td>\n",
       "      <td>1.185254</td>\n",
       "    </tr>\n",
       "    <tr>\n",
       "      <th>0</th>\n",
       "      <td>'0'</td>\n",
       "      <td>1.957586</td>\n",
       "    </tr>\n",
       "  </tbody>\n",
       "</table>\n",
       "</div>"
      ],
      "text/plain": [
       "   age  fraud_percent\n",
       "7  'U'       0.594228\n",
       "6  '6'       0.974826\n",
       "5  '5'       1.095112\n",
       "4  '4'       1.293281\n",
       "3  '3'       1.192815\n",
       "2  '2'       1.251401\n",
       "1  '1'       1.185254\n",
       "0  '0'       1.957586"
      ]
     },
     "execution_count": 51,
     "metadata": {},
     "output_type": "execute_result"
    }
   ],
   "source": [
    "(bank.groupby('age')['fraud'].mean()*100).reset_index().sort_values(by='age' , ascending = False).rename(columns={'fraud':'fraud_percent'})"
   ]
  },
  {
   "cell_type": "code",
   "execution_count": 52,
   "id": "supported-boring",
   "metadata": {
    "execution": {
     "iopub.execute_input": "2021-05-05T16:30:22.343169Z",
     "iopub.status.busy": "2021-05-05T16:30:22.342465Z",
     "iopub.status.idle": "2021-05-05T16:30:22.345401Z",
     "shell.execute_reply": "2021-05-05T16:30:22.346002Z"
    },
    "papermill": {
     "duration": 0.090481,
     "end_time": "2021-05-05T16:30:22.346170",
     "exception": false,
     "start_time": "2021-05-05T16:30:22.255689",
     "status": "completed"
    },
    "tags": []
   },
   "outputs": [
    {
     "data": {
      "text/html": [
       "<div>\n",
       "<style scoped>\n",
       "    .dataframe tbody tr th:only-of-type {\n",
       "        vertical-align: middle;\n",
       "    }\n",
       "\n",
       "    .dataframe tbody tr th {\n",
       "        vertical-align: top;\n",
       "    }\n",
       "\n",
       "    .dataframe thead th {\n",
       "        text-align: right;\n",
       "    }\n",
       "</style>\n",
       "<table border=\"1\" class=\"dataframe\">\n",
       "  <thead>\n",
       "    <tr style=\"text-align: right;\">\n",
       "      <th></th>\n",
       "      <th>step</th>\n",
       "      <th>customer</th>\n",
       "      <th>age</th>\n",
       "      <th>gender</th>\n",
       "      <th>zipcodeOri</th>\n",
       "      <th>merchant</th>\n",
       "      <th>zipMerchant</th>\n",
       "      <th>category</th>\n",
       "      <th>amount</th>\n",
       "      <th>fraud</th>\n",
       "    </tr>\n",
       "  </thead>\n",
       "  <tbody>\n",
       "    <tr>\n",
       "      <th>0</th>\n",
       "      <td>0</td>\n",
       "      <td>'C1093826151'</td>\n",
       "      <td>'4'</td>\n",
       "      <td>'M'</td>\n",
       "      <td>'28007'</td>\n",
       "      <td>'M348934600'</td>\n",
       "      <td>'28007'</td>\n",
       "      <td>'es_transportation'</td>\n",
       "      <td>4.55</td>\n",
       "      <td>0</td>\n",
       "    </tr>\n",
       "    <tr>\n",
       "      <th>1</th>\n",
       "      <td>0</td>\n",
       "      <td>'C352968107'</td>\n",
       "      <td>'2'</td>\n",
       "      <td>'M'</td>\n",
       "      <td>'28007'</td>\n",
       "      <td>'M348934600'</td>\n",
       "      <td>'28007'</td>\n",
       "      <td>'es_transportation'</td>\n",
       "      <td>39.68</td>\n",
       "      <td>0</td>\n",
       "    </tr>\n",
       "    <tr>\n",
       "      <th>2</th>\n",
       "      <td>0</td>\n",
       "      <td>'C2054744914'</td>\n",
       "      <td>'4'</td>\n",
       "      <td>'F'</td>\n",
       "      <td>'28007'</td>\n",
       "      <td>'M1823072687'</td>\n",
       "      <td>'28007'</td>\n",
       "      <td>'es_transportation'</td>\n",
       "      <td>26.89</td>\n",
       "      <td>0</td>\n",
       "    </tr>\n",
       "    <tr>\n",
       "      <th>3</th>\n",
       "      <td>0</td>\n",
       "      <td>'C1760612790'</td>\n",
       "      <td>'3'</td>\n",
       "      <td>'M'</td>\n",
       "      <td>'28007'</td>\n",
       "      <td>'M348934600'</td>\n",
       "      <td>'28007'</td>\n",
       "      <td>'es_transportation'</td>\n",
       "      <td>17.25</td>\n",
       "      <td>0</td>\n",
       "    </tr>\n",
       "    <tr>\n",
       "      <th>4</th>\n",
       "      <td>0</td>\n",
       "      <td>'C757503768'</td>\n",
       "      <td>'5'</td>\n",
       "      <td>'M'</td>\n",
       "      <td>'28007'</td>\n",
       "      <td>'M348934600'</td>\n",
       "      <td>'28007'</td>\n",
       "      <td>'es_transportation'</td>\n",
       "      <td>35.72</td>\n",
       "      <td>0</td>\n",
       "    </tr>\n",
       "  </tbody>\n",
       "</table>\n",
       "</div>"
      ],
      "text/plain": [
       "   step       customer  age gender zipcodeOri       merchant zipMerchant  \\\n",
       "0     0  'C1093826151'  '4'    'M'    '28007'   'M348934600'     '28007'   \n",
       "1     0   'C352968107'  '2'    'M'    '28007'   'M348934600'     '28007'   \n",
       "2     0  'C2054744914'  '4'    'F'    '28007'  'M1823072687'     '28007'   \n",
       "3     0  'C1760612790'  '3'    'M'    '28007'   'M348934600'     '28007'   \n",
       "4     0   'C757503768'  '5'    'M'    '28007'   'M348934600'     '28007'   \n",
       "\n",
       "              category  amount  fraud  \n",
       "0  'es_transportation'    4.55      0  \n",
       "1  'es_transportation'   39.68      0  \n",
       "2  'es_transportation'   26.89      0  \n",
       "3  'es_transportation'   17.25      0  \n",
       "4  'es_transportation'   35.72      0  "
      ]
     },
     "execution_count": 52,
     "metadata": {},
     "output_type": "execute_result"
    }
   ],
   "source": [
    "bank.head()"
   ]
  },
  {
   "cell_type": "code",
   "execution_count": 53,
   "id": "dynamic-mobile",
   "metadata": {
    "execution": {
     "iopub.execute_input": "2021-05-05T16:30:22.491503Z",
     "iopub.status.busy": "2021-05-05T16:30:22.490786Z",
     "iopub.status.idle": "2021-05-05T16:30:22.609365Z",
     "shell.execute_reply": "2021-05-05T16:30:22.609810Z"
    },
    "papermill": {
     "duration": 0.19257,
     "end_time": "2021-05-05T16:30:22.609996",
     "exception": false,
     "start_time": "2021-05-05T16:30:22.417426",
     "status": "completed"
    },
    "tags": []
   },
   "outputs": [
    {
     "data": {
      "text/plain": [
       "1"
      ]
     },
     "execution_count": 53,
     "metadata": {},
     "output_type": "execute_result"
    }
   ],
   "source": [
    "bank['zipcodeOri'].nunique()"
   ]
  },
  {
   "cell_type": "code",
   "execution_count": 54,
   "id": "expressed-cookbook",
   "metadata": {
    "execution": {
     "iopub.execute_input": "2021-05-05T16:30:22.816662Z",
     "iopub.status.busy": "2021-05-05T16:30:22.815985Z",
     "iopub.status.idle": "2021-05-05T16:30:22.871950Z",
     "shell.execute_reply": "2021-05-05T16:30:22.871412Z"
    },
    "papermill": {
     "duration": 0.190323,
     "end_time": "2021-05-05T16:30:22.872096",
     "exception": false,
     "start_time": "2021-05-05T16:30:22.681773",
     "status": "completed"
    },
    "tags": []
   },
   "outputs": [
    {
     "data": {
      "text/plain": [
       "1"
      ]
     },
     "execution_count": 54,
     "metadata": {},
     "output_type": "execute_result"
    }
   ],
   "source": [
    "bank['zipMerchant'].nunique()"
   ]
  },
  {
   "cell_type": "code",
   "execution_count": 55,
   "id": "found-remove",
   "metadata": {
    "execution": {
     "iopub.execute_input": "2021-05-05T16:30:23.025174Z",
     "iopub.status.busy": "2021-05-05T16:30:23.024463Z",
     "iopub.status.idle": "2021-05-05T16:30:23.057225Z",
     "shell.execute_reply": "2021-05-05T16:30:23.056658Z"
    },
    "papermill": {
     "duration": 0.113827,
     "end_time": "2021-05-05T16:30:23.057372",
     "exception": false,
     "start_time": "2021-05-05T16:30:22.943545",
     "status": "completed"
    },
    "tags": []
   },
   "outputs": [],
   "source": [
    "bank.drop(['zipcodeOri','zipMerchant'],axis=1,inplace=True)"
   ]
  },
  {
   "cell_type": "code",
   "execution_count": 56,
   "id": "grave-ocean",
   "metadata": {
    "execution": {
     "iopub.execute_input": "2021-05-05T16:30:23.205409Z",
     "iopub.status.busy": "2021-05-05T16:30:23.204772Z",
     "iopub.status.idle": "2021-05-05T16:30:23.209000Z",
     "shell.execute_reply": "2021-05-05T16:30:23.208389Z"
    },
    "papermill": {
     "duration": 0.080542,
     "end_time": "2021-05-05T16:30:23.209137",
     "exception": false,
     "start_time": "2021-05-05T16:30:23.128595",
     "status": "completed"
    },
    "tags": []
   },
   "outputs": [
    {
     "data": {
      "text/plain": [
       "(594643, 8)"
      ]
     },
     "execution_count": 56,
     "metadata": {},
     "output_type": "execute_result"
    }
   ],
   "source": [
    "bank.shape"
   ]
  },
  {
   "cell_type": "code",
   "execution_count": 57,
   "id": "elect-commerce",
   "metadata": {
    "execution": {
     "iopub.execute_input": "2021-05-05T16:30:23.369560Z",
     "iopub.status.busy": "2021-05-05T16:30:23.368886Z",
     "iopub.status.idle": "2021-05-05T16:30:23.374165Z",
     "shell.execute_reply": "2021-05-05T16:30:23.374653Z"
    },
    "papermill": {
     "duration": 0.093514,
     "end_time": "2021-05-05T16:30:23.374826",
     "exception": false,
     "start_time": "2021-05-05T16:30:23.281312",
     "status": "completed"
    },
    "tags": []
   },
   "outputs": [
    {
     "data": {
      "text/html": [
       "<div>\n",
       "<style scoped>\n",
       "    .dataframe tbody tr th:only-of-type {\n",
       "        vertical-align: middle;\n",
       "    }\n",
       "\n",
       "    .dataframe tbody tr th {\n",
       "        vertical-align: top;\n",
       "    }\n",
       "\n",
       "    .dataframe thead th {\n",
       "        text-align: right;\n",
       "    }\n",
       "</style>\n",
       "<table border=\"1\" class=\"dataframe\">\n",
       "  <thead>\n",
       "    <tr style=\"text-align: right;\">\n",
       "      <th></th>\n",
       "      <th>step</th>\n",
       "      <th>customer</th>\n",
       "      <th>age</th>\n",
       "      <th>gender</th>\n",
       "      <th>merchant</th>\n",
       "      <th>category</th>\n",
       "      <th>amount</th>\n",
       "      <th>fraud</th>\n",
       "    </tr>\n",
       "  </thead>\n",
       "  <tbody>\n",
       "    <tr>\n",
       "      <th>0</th>\n",
       "      <td>0</td>\n",
       "      <td>'C1093826151'</td>\n",
       "      <td>'4'</td>\n",
       "      <td>'M'</td>\n",
       "      <td>'M348934600'</td>\n",
       "      <td>'es_transportation'</td>\n",
       "      <td>4.55</td>\n",
       "      <td>0</td>\n",
       "    </tr>\n",
       "    <tr>\n",
       "      <th>1</th>\n",
       "      <td>0</td>\n",
       "      <td>'C352968107'</td>\n",
       "      <td>'2'</td>\n",
       "      <td>'M'</td>\n",
       "      <td>'M348934600'</td>\n",
       "      <td>'es_transportation'</td>\n",
       "      <td>39.68</td>\n",
       "      <td>0</td>\n",
       "    </tr>\n",
       "    <tr>\n",
       "      <th>2</th>\n",
       "      <td>0</td>\n",
       "      <td>'C2054744914'</td>\n",
       "      <td>'4'</td>\n",
       "      <td>'F'</td>\n",
       "      <td>'M1823072687'</td>\n",
       "      <td>'es_transportation'</td>\n",
       "      <td>26.89</td>\n",
       "      <td>0</td>\n",
       "    </tr>\n",
       "  </tbody>\n",
       "</table>\n",
       "</div>"
      ],
      "text/plain": [
       "   step       customer  age gender       merchant             category  \\\n",
       "0     0  'C1093826151'  '4'    'M'   'M348934600'  'es_transportation'   \n",
       "1     0   'C352968107'  '2'    'M'   'M348934600'  'es_transportation'   \n",
       "2     0  'C2054744914'  '4'    'F'  'M1823072687'  'es_transportation'   \n",
       "\n",
       "   amount  fraud  \n",
       "0    4.55      0  \n",
       "1   39.68      0  \n",
       "2   26.89      0  "
      ]
     },
     "execution_count": 57,
     "metadata": {},
     "output_type": "execute_result"
    }
   ],
   "source": [
    "bank.head(3)"
   ]
  },
  {
   "cell_type": "markdown",
   "id": "fancy-guyana",
   "metadata": {
    "papermill": {
     "duration": 0.072711,
     "end_time": "2021-05-05T16:30:23.520613",
     "exception": false,
     "start_time": "2021-05-05T16:30:23.447902",
     "status": "completed"
    },
    "tags": []
   },
   "source": [
    "**Transformation**"
   ]
  },
  {
   "cell_type": "code",
   "execution_count": 58,
   "id": "0052c87f",
   "metadata": {},
   "outputs": [
    {
     "data": {
      "text/html": [
       "<div>\n",
       "<style scoped>\n",
       "    .dataframe tbody tr th:only-of-type {\n",
       "        vertical-align: middle;\n",
       "    }\n",
       "\n",
       "    .dataframe tbody tr th {\n",
       "        vertical-align: top;\n",
       "    }\n",
       "\n",
       "    .dataframe thead th {\n",
       "        text-align: right;\n",
       "    }\n",
       "</style>\n",
       "<table border=\"1\" class=\"dataframe\">\n",
       "  <thead>\n",
       "    <tr style=\"text-align: right;\">\n",
       "      <th></th>\n",
       "      <th>step</th>\n",
       "      <th>customer</th>\n",
       "      <th>age</th>\n",
       "      <th>gender</th>\n",
       "      <th>merchant</th>\n",
       "      <th>category</th>\n",
       "      <th>amount</th>\n",
       "      <th>fraud</th>\n",
       "    </tr>\n",
       "  </thead>\n",
       "  <tbody>\n",
       "    <tr>\n",
       "      <th>0</th>\n",
       "      <td>0</td>\n",
       "      <td>210</td>\n",
       "      <td>4</td>\n",
       "      <td>2</td>\n",
       "      <td>30</td>\n",
       "      <td>12</td>\n",
       "      <td>4.55</td>\n",
       "      <td>0</td>\n",
       "    </tr>\n",
       "    <tr>\n",
       "      <th>1</th>\n",
       "      <td>0</td>\n",
       "      <td>2753</td>\n",
       "      <td>2</td>\n",
       "      <td>2</td>\n",
       "      <td>30</td>\n",
       "      <td>12</td>\n",
       "      <td>39.68</td>\n",
       "      <td>0</td>\n",
       "    </tr>\n",
       "    <tr>\n",
       "      <th>2</th>\n",
       "      <td>0</td>\n",
       "      <td>2285</td>\n",
       "      <td>4</td>\n",
       "      <td>1</td>\n",
       "      <td>18</td>\n",
       "      <td>12</td>\n",
       "      <td>26.89</td>\n",
       "      <td>0</td>\n",
       "    </tr>\n",
       "    <tr>\n",
       "      <th>3</th>\n",
       "      <td>0</td>\n",
       "      <td>1650</td>\n",
       "      <td>3</td>\n",
       "      <td>2</td>\n",
       "      <td>30</td>\n",
       "      <td>12</td>\n",
       "      <td>17.25</td>\n",
       "      <td>0</td>\n",
       "    </tr>\n",
       "    <tr>\n",
       "      <th>4</th>\n",
       "      <td>0</td>\n",
       "      <td>3585</td>\n",
       "      <td>5</td>\n",
       "      <td>2</td>\n",
       "      <td>30</td>\n",
       "      <td>12</td>\n",
       "      <td>35.72</td>\n",
       "      <td>0</td>\n",
       "    </tr>\n",
       "  </tbody>\n",
       "</table>\n",
       "</div>"
      ],
      "text/plain": [
       "   step  customer  age  gender  merchant  category  amount  fraud\n",
       "0     0       210    4       2        30        12    4.55      0\n",
       "1     0      2753    2       2        30        12   39.68      0\n",
       "2     0      2285    4       1        18        12   26.89      0\n",
       "3     0      1650    3       2        30        12   17.25      0\n",
       "4     0      3585    5       2        30        12   35.72      0"
      ]
     },
     "execution_count": 58,
     "metadata": {},
     "output_type": "execute_result"
    }
   ],
   "source": [
    "col_categorical = bank.select_dtypes(include= ['object']).columns\n",
    "for col in col_categorical:\n",
    "    bank[col] = bank[col].astype('category')\n",
    "bank[col_categorical] = bank[col_categorical].apply(lambda x: x.cat.codes)\n",
    "bank.head(5)"
   ]
  },
  {
   "cell_type": "code",
   "execution_count": 59,
   "id": "consecutive-point",
   "metadata": {
    "execution": {
     "iopub.execute_input": "2021-05-05T16:30:24.218142Z",
     "iopub.status.busy": "2021-05-05T16:30:24.217464Z",
     "iopub.status.idle": "2021-05-05T16:30:24.231947Z",
     "shell.execute_reply": "2021-05-05T16:30:24.232441Z"
    },
    "papermill": {
     "duration": 0.095252,
     "end_time": "2021-05-05T16:30:24.232625",
     "exception": false,
     "start_time": "2021-05-05T16:30:24.137373",
     "status": "completed"
    },
    "tags": []
   },
   "outputs": [],
   "source": [
    "X = bank.iloc[:,0:7]\n",
    "y = bank.iloc[:,-1]"
   ]
  },
  {
   "cell_type": "code",
   "execution_count": 60,
   "id": "1b36d775",
   "metadata": {},
   "outputs": [
    {
     "data": {
      "text/html": [
       "<div>\n",
       "<style scoped>\n",
       "    .dataframe tbody tr th:only-of-type {\n",
       "        vertical-align: middle;\n",
       "    }\n",
       "\n",
       "    .dataframe tbody tr th {\n",
       "        vertical-align: top;\n",
       "    }\n",
       "\n",
       "    .dataframe thead th {\n",
       "        text-align: right;\n",
       "    }\n",
       "</style>\n",
       "<table border=\"1\" class=\"dataframe\">\n",
       "  <thead>\n",
       "    <tr style=\"text-align: right;\">\n",
       "      <th></th>\n",
       "      <th>step</th>\n",
       "      <th>customer</th>\n",
       "      <th>age</th>\n",
       "      <th>gender</th>\n",
       "      <th>merchant</th>\n",
       "      <th>category</th>\n",
       "      <th>amount</th>\n",
       "    </tr>\n",
       "  </thead>\n",
       "  <tbody>\n",
       "    <tr>\n",
       "      <th>0</th>\n",
       "      <td>0</td>\n",
       "      <td>210</td>\n",
       "      <td>4</td>\n",
       "      <td>2</td>\n",
       "      <td>30</td>\n",
       "      <td>12</td>\n",
       "      <td>4.55</td>\n",
       "    </tr>\n",
       "    <tr>\n",
       "      <th>1</th>\n",
       "      <td>0</td>\n",
       "      <td>2753</td>\n",
       "      <td>2</td>\n",
       "      <td>2</td>\n",
       "      <td>30</td>\n",
       "      <td>12</td>\n",
       "      <td>39.68</td>\n",
       "    </tr>\n",
       "    <tr>\n",
       "      <th>2</th>\n",
       "      <td>0</td>\n",
       "      <td>2285</td>\n",
       "      <td>4</td>\n",
       "      <td>1</td>\n",
       "      <td>18</td>\n",
       "      <td>12</td>\n",
       "      <td>26.89</td>\n",
       "    </tr>\n",
       "    <tr>\n",
       "      <th>3</th>\n",
       "      <td>0</td>\n",
       "      <td>1650</td>\n",
       "      <td>3</td>\n",
       "      <td>2</td>\n",
       "      <td>30</td>\n",
       "      <td>12</td>\n",
       "      <td>17.25</td>\n",
       "    </tr>\n",
       "    <tr>\n",
       "      <th>4</th>\n",
       "      <td>0</td>\n",
       "      <td>3585</td>\n",
       "      <td>5</td>\n",
       "      <td>2</td>\n",
       "      <td>30</td>\n",
       "      <td>12</td>\n",
       "      <td>35.72</td>\n",
       "    </tr>\n",
       "  </tbody>\n",
       "</table>\n",
       "</div>"
      ],
      "text/plain": [
       "   step  customer  age  gender  merchant  category  amount\n",
       "0     0       210    4       2        30        12    4.55\n",
       "1     0      2753    2       2        30        12   39.68\n",
       "2     0      2285    4       1        18        12   26.89\n",
       "3     0      1650    3       2        30        12   17.25\n",
       "4     0      3585    5       2        30        12   35.72"
      ]
     },
     "execution_count": 60,
     "metadata": {},
     "output_type": "execute_result"
    }
   ],
   "source": [
    "X.head()"
   ]
  },
  {
   "cell_type": "code",
   "execution_count": 61,
   "id": "7fd04396",
   "metadata": {},
   "outputs": [
    {
     "data": {
      "text/plain": [
       "0    0\n",
       "1    0\n",
       "2    0\n",
       "3    0\n",
       "4    0\n",
       "Name: fraud, dtype: int64"
      ]
     },
     "execution_count": 61,
     "metadata": {},
     "output_type": "execute_result"
    }
   ],
   "source": [
    "y.head()"
   ]
  },
  {
   "cell_type": "code",
   "execution_count": 62,
   "id": "e548093d",
   "metadata": {},
   "outputs": [
    {
     "data": {
      "text/html": [
       "<div>\n",
       "<style scoped>\n",
       "    .dataframe tbody tr th:only-of-type {\n",
       "        vertical-align: middle;\n",
       "    }\n",
       "\n",
       "    .dataframe tbody tr th {\n",
       "        vertical-align: top;\n",
       "    }\n",
       "\n",
       "    .dataframe thead th {\n",
       "        text-align: right;\n",
       "    }\n",
       "</style>\n",
       "<table border=\"1\" class=\"dataframe\">\n",
       "  <thead>\n",
       "    <tr style=\"text-align: right;\">\n",
       "      <th></th>\n",
       "      <th>step</th>\n",
       "      <th>customer</th>\n",
       "      <th>age</th>\n",
       "      <th>gender</th>\n",
       "      <th>merchant</th>\n",
       "      <th>category</th>\n",
       "      <th>amount</th>\n",
       "    </tr>\n",
       "  </thead>\n",
       "  <tbody>\n",
       "    <tr>\n",
       "      <th>0</th>\n",
       "      <td>-1.860532</td>\n",
       "      <td>-1.545620</td>\n",
       "      <td>0.737975</td>\n",
       "      <td>1.090643</td>\n",
       "      <td>0.714001</td>\n",
       "      <td>0.331405</td>\n",
       "      <td>-0.299276</td>\n",
       "    </tr>\n",
       "    <tr>\n",
       "      <th>1</th>\n",
       "      <td>-1.860532</td>\n",
       "      <td>0.599484</td>\n",
       "      <td>-0.759162</td>\n",
       "      <td>1.090643</td>\n",
       "      <td>0.714001</td>\n",
       "      <td>0.331405</td>\n",
       "      <td>0.016067</td>\n",
       "    </tr>\n",
       "    <tr>\n",
       "      <th>2</th>\n",
       "      <td>-1.860532</td>\n",
       "      <td>0.204710</td>\n",
       "      <td>0.737975</td>\n",
       "      <td>-0.896279</td>\n",
       "      <td>-0.682938</td>\n",
       "      <td>0.331405</td>\n",
       "      <td>-0.098742</td>\n",
       "    </tr>\n",
       "    <tr>\n",
       "      <th>3</th>\n",
       "      <td>-1.860532</td>\n",
       "      <td>-0.330933</td>\n",
       "      <td>-0.010593</td>\n",
       "      <td>1.090643</td>\n",
       "      <td>0.714001</td>\n",
       "      <td>0.331405</td>\n",
       "      <td>-0.185275</td>\n",
       "    </tr>\n",
       "    <tr>\n",
       "      <th>4</th>\n",
       "      <td>-1.860532</td>\n",
       "      <td>1.301303</td>\n",
       "      <td>1.486544</td>\n",
       "      <td>1.090643</td>\n",
       "      <td>0.714001</td>\n",
       "      <td>0.331405</td>\n",
       "      <td>-0.019480</td>\n",
       "    </tr>\n",
       "  </tbody>\n",
       "</table>\n",
       "</div>"
      ],
      "text/plain": [
       "       step  customer       age    gender  merchant  category    amount\n",
       "0 -1.860532 -1.545620  0.737975  1.090643  0.714001  0.331405 -0.299276\n",
       "1 -1.860532  0.599484 -0.759162  1.090643  0.714001  0.331405  0.016067\n",
       "2 -1.860532  0.204710  0.737975 -0.896279 -0.682938  0.331405 -0.098742\n",
       "3 -1.860532 -0.330933 -0.010593  1.090643  0.714001  0.331405 -0.185275\n",
       "4 -1.860532  1.301303  1.486544  1.090643  0.714001  0.331405 -0.019480"
      ]
     },
     "execution_count": 62,
     "metadata": {},
     "output_type": "execute_result"
    }
   ],
   "source": [
    "#Set up a standard scaler for the features\n",
    "from sklearn.preprocessing import StandardScaler\n",
    "col_names = list(X.columns)\n",
    "s_scaler = StandardScaler()\n",
    "X = s_scaler.fit_transform(X)\n",
    "X = pd.DataFrame(X, columns=col_names) \n",
    "X.head()"
   ]
  },
  {
   "cell_type": "code",
   "execution_count": 63,
   "id": "3ee4c6ff",
   "metadata": {},
   "outputs": [
    {
     "data": {
      "text/plain": [
       "(594643, 7)"
      ]
     },
     "execution_count": 63,
     "metadata": {},
     "output_type": "execute_result"
    }
   ],
   "source": [
    "X.shape"
   ]
  },
  {
   "cell_type": "code",
   "execution_count": 64,
   "id": "statistical-locking",
   "metadata": {
    "execution": {
     "iopub.execute_input": "2021-05-05T16:30:26.274461Z",
     "iopub.status.busy": "2021-05-05T16:30:26.273794Z",
     "iopub.status.idle": "2021-05-05T16:30:26.277171Z",
     "shell.execute_reply": "2021-05-05T16:30:26.277649Z"
    },
    "papermill": {
     "duration": 0.083003,
     "end_time": "2021-05-05T16:30:26.277812",
     "exception": false,
     "start_time": "2021-05-05T16:30:26.194809",
     "status": "completed"
    },
    "tags": []
   },
   "outputs": [],
   "source": [
    "# train_test split\n",
    "from sklearn.model_selection import train_test_split\n",
    "\n",
    "X_train, X_test, y_train, y_test = train_test_split(X, y, test_size=0.33, random_state=42)"
   ]
  },
  {
   "cell_type": "markdown",
   "id": "trained-therapy",
   "metadata": {
    "papermill": {
     "duration": 0.074076,
     "end_time": "2021-05-05T16:30:24.380751",
     "exception": false,
     "start_time": "2021-05-05T16:30:24.306675",
     "status": "completed"
    },
    "tags": []
   },
   "source": [
    "**Oversampling**"
   ]
  },
  {
   "cell_type": "code",
   "execution_count": 65,
   "id": "e7128ebe",
   "metadata": {},
   "outputs": [
    {
     "name": "stdout",
     "output_type": "stream",
     "text": [
      "X_train = (398410, 7)\n",
      "y_train = (398410,)\n",
      "X_test = (196233, 7)\n",
      "y_test = (196233,)\n"
     ]
    }
   ],
   "source": [
    "print('X_train =', X_train.shape)\n",
    "print('y_train =', y_train.shape)\n",
    "print('X_test =', X_test.shape)\n",
    "print('y_test =', y_test.shape)\n"
   ]
  },
  {
   "cell_type": "code",
   "execution_count": 66,
   "id": "together-cardiff",
   "metadata": {
    "execution": {
     "iopub.execute_input": "2021-05-05T16:30:25.279291Z",
     "iopub.status.busy": "2021-05-05T16:30:25.278659Z",
     "iopub.status.idle": "2021-05-05T16:30:25.622379Z",
     "shell.execute_reply": "2021-05-05T16:30:25.622864Z"
    },
    "papermill": {
     "duration": 0.42184,
     "end_time": "2021-05-05T16:30:25.623065",
     "exception": false,
     "start_time": "2021-05-05T16:30:25.201225",
     "status": "completed"
    },
    "tags": []
   },
   "outputs": [],
   "source": [
    "from imblearn.over_sampling import SMOTE\n",
    "smote = SMOTE()\n",
    "X_res,y_res=smote.fit_resample(X_train,y_train)"
   ]
  },
  {
   "cell_type": "code",
   "execution_count": 67,
   "id": "cleared-missile",
   "metadata": {
    "execution": {
     "iopub.execute_input": "2021-05-05T16:30:25.775662Z",
     "iopub.status.busy": "2021-05-05T16:30:25.775019Z",
     "iopub.status.idle": "2021-05-05T16:30:25.785760Z",
     "shell.execute_reply": "2021-05-05T16:30:25.786301Z"
    },
    "papermill": {
     "duration": 0.089666,
     "end_time": "2021-05-05T16:30:25.786478",
     "exception": false,
     "start_time": "2021-05-05T16:30:25.696812",
     "status": "completed"
    },
    "scrolled": true,
    "tags": []
   },
   "outputs": [
    {
     "name": "stdout",
     "output_type": "stream",
     "text": [
      "Before oversampling:  Counter({0: 393525, 1: 4885})\n",
      "After oversampling:  Counter({0: 393525, 1: 393525})\n"
     ]
    }
   ],
   "source": [
    "from collections import Counter\n",
    "print(\"Before oversampling: \",Counter(y_train))\n",
    "print(\"After oversampling: \",Counter(y_res))"
   ]
  },
  {
   "cell_type": "code",
   "execution_count": 68,
   "id": "loose-bloom",
   "metadata": {
    "execution": {
     "iopub.execute_input": "2021-05-05T16:30:26.973529Z",
     "iopub.status.busy": "2021-05-05T16:30:26.972749Z",
     "iopub.status.idle": "2021-05-05T16:30:26.975638Z",
     "shell.execute_reply": "2021-05-05T16:30:26.976185Z"
    },
    "papermill": {
     "duration": 0.08864,
     "end_time": "2021-05-05T16:30:26.976371",
     "exception": false,
     "start_time": "2021-05-05T16:30:26.887731",
     "status": "completed"
    },
    "tags": []
   },
   "outputs": [
    {
     "data": {
      "text/plain": [
       "0         0\n",
       "1         0\n",
       "2         0\n",
       "3         0\n",
       "4         0\n",
       "         ..\n",
       "787045    1\n",
       "787046    1\n",
       "787047    1\n",
       "787048    1\n",
       "787049    1\n",
       "Name: fraud, Length: 787050, dtype: int64"
      ]
     },
     "execution_count": 68,
     "metadata": {},
     "output_type": "execute_result"
    }
   ],
   "source": [
    "y_res"
   ]
  },
  {
   "cell_type": "code",
   "execution_count": 69,
   "id": "52726541",
   "metadata": {},
   "outputs": [
    {
     "data": {
      "text/html": [
       "<div>\n",
       "<style scoped>\n",
       "    .dataframe tbody tr th:only-of-type {\n",
       "        vertical-align: middle;\n",
       "    }\n",
       "\n",
       "    .dataframe tbody tr th {\n",
       "        vertical-align: top;\n",
       "    }\n",
       "\n",
       "    .dataframe thead th {\n",
       "        text-align: right;\n",
       "    }\n",
       "</style>\n",
       "<table border=\"1\" class=\"dataframe\">\n",
       "  <thead>\n",
       "    <tr style=\"text-align: right;\">\n",
       "      <th></th>\n",
       "      <th>step</th>\n",
       "      <th>customer</th>\n",
       "      <th>age</th>\n",
       "      <th>gender</th>\n",
       "      <th>merchant</th>\n",
       "      <th>category</th>\n",
       "      <th>amount</th>\n",
       "    </tr>\n",
       "  </thead>\n",
       "  <tbody>\n",
       "    <tr>\n",
       "      <th>0</th>\n",
       "      <td>0.489940</td>\n",
       "      <td>-1.136506</td>\n",
       "      <td>2.235113</td>\n",
       "      <td>-0.896279</td>\n",
       "      <td>0.714001</td>\n",
       "      <td>0.331405</td>\n",
       "      <td>0.008167</td>\n",
       "    </tr>\n",
       "    <tr>\n",
       "      <th>1</th>\n",
       "      <td>-0.920343</td>\n",
       "      <td>0.655157</td>\n",
       "      <td>1.486544</td>\n",
       "      <td>1.090643</td>\n",
       "      <td>-0.682938</td>\n",
       "      <td>0.331405</td>\n",
       "      <td>0.152598</td>\n",
       "    </tr>\n",
       "    <tr>\n",
       "      <th>2</th>\n",
       "      <td>0.666225</td>\n",
       "      <td>-0.468429</td>\n",
       "      <td>-1.507730</td>\n",
       "      <td>-0.896279</td>\n",
       "      <td>-0.682938</td>\n",
       "      <td>0.331405</td>\n",
       "      <td>0.088955</td>\n",
       "    </tr>\n",
       "    <tr>\n",
       "      <th>3</th>\n",
       "      <td>-0.254376</td>\n",
       "      <td>-0.469272</td>\n",
       "      <td>-0.010593</td>\n",
       "      <td>1.090643</td>\n",
       "      <td>-0.682938</td>\n",
       "      <td>0.331405</td>\n",
       "      <td>-0.289312</td>\n",
       "    </tr>\n",
       "    <tr>\n",
       "      <th>4</th>\n",
       "      <td>-1.860532</td>\n",
       "      <td>-0.031479</td>\n",
       "      <td>-0.010593</td>\n",
       "      <td>-0.896279</td>\n",
       "      <td>0.714001</td>\n",
       "      <td>0.331405</td>\n",
       "      <td>-0.300084</td>\n",
       "    </tr>\n",
       "    <tr>\n",
       "      <th>...</th>\n",
       "      <td>...</td>\n",
       "      <td>...</td>\n",
       "      <td>...</td>\n",
       "      <td>...</td>\n",
       "      <td>...</td>\n",
       "      <td>...</td>\n",
       "      <td>...</td>\n",
       "    </tr>\n",
       "    <tr>\n",
       "      <th>787045</th>\n",
       "      <td>0.938726</td>\n",
       "      <td>-1.204830</td>\n",
       "      <td>1.411865</td>\n",
       "      <td>-0.896279</td>\n",
       "      <td>-1.544550</td>\n",
       "      <td>1.041352</td>\n",
       "      <td>0.530801</td>\n",
       "    </tr>\n",
       "    <tr>\n",
       "      <th>787046</th>\n",
       "      <td>0.806506</td>\n",
       "      <td>-0.913883</td>\n",
       "      <td>-0.010593</td>\n",
       "      <td>1.090643</td>\n",
       "      <td>-1.067068</td>\n",
       "      <td>-0.409612</td>\n",
       "      <td>4.212787</td>\n",
       "    </tr>\n",
       "    <tr>\n",
       "      <th>787047</th>\n",
       "      <td>0.169267</td>\n",
       "      <td>-0.397291</td>\n",
       "      <td>-0.759162</td>\n",
       "      <td>1.090643</td>\n",
       "      <td>2.110941</td>\n",
       "      <td>-0.023568</td>\n",
       "      <td>4.496748</td>\n",
       "    </tr>\n",
       "    <tr>\n",
       "      <th>787048</th>\n",
       "      <td>-1.710651</td>\n",
       "      <td>-0.884280</td>\n",
       "      <td>0.737975</td>\n",
       "      <td>-0.896279</td>\n",
       "      <td>2.925822</td>\n",
       "      <td>-0.378541</td>\n",
       "      <td>1.787931</td>\n",
       "    </tr>\n",
       "    <tr>\n",
       "      <th>787049</th>\n",
       "      <td>0.132643</td>\n",
       "      <td>1.187161</td>\n",
       "      <td>0.453999</td>\n",
       "      <td>1.090643</td>\n",
       "      <td>-0.333703</td>\n",
       "      <td>-1.798433</td>\n",
       "      <td>0.091910</td>\n",
       "    </tr>\n",
       "  </tbody>\n",
       "</table>\n",
       "<p>787050 rows × 7 columns</p>\n",
       "</div>"
      ],
      "text/plain": [
       "            step  customer       age    gender  merchant  category    amount\n",
       "0       0.489940 -1.136506  2.235113 -0.896279  0.714001  0.331405  0.008167\n",
       "1      -0.920343  0.655157  1.486544  1.090643 -0.682938  0.331405  0.152598\n",
       "2       0.666225 -0.468429 -1.507730 -0.896279 -0.682938  0.331405  0.088955\n",
       "3      -0.254376 -0.469272 -0.010593  1.090643 -0.682938  0.331405 -0.289312\n",
       "4      -1.860532 -0.031479 -0.010593 -0.896279  0.714001  0.331405 -0.300084\n",
       "...          ...       ...       ...       ...       ...       ...       ...\n",
       "787045  0.938726 -1.204830  1.411865 -0.896279 -1.544550  1.041352  0.530801\n",
       "787046  0.806506 -0.913883 -0.010593  1.090643 -1.067068 -0.409612  4.212787\n",
       "787047  0.169267 -0.397291 -0.759162  1.090643  2.110941 -0.023568  4.496748\n",
       "787048 -1.710651 -0.884280  0.737975 -0.896279  2.925822 -0.378541  1.787931\n",
       "787049  0.132643  1.187161  0.453999  1.090643 -0.333703 -1.798433  0.091910\n",
       "\n",
       "[787050 rows x 7 columns]"
      ]
     },
     "execution_count": 69,
     "metadata": {},
     "output_type": "execute_result"
    }
   ],
   "source": [
    "X_res"
   ]
  },
  {
   "cell_type": "markdown",
   "id": "visible-filter",
   "metadata": {
    "papermill": {
     "duration": 0.082575,
     "end_time": "2021-05-05T16:30:34.606270",
     "exception": false,
     "start_time": "2021-05-05T16:30:34.523695",
     "status": "completed"
    },
    "tags": []
   },
   "source": [
    "**KNeighborsClassifier**"
   ]
  },
  {
   "cell_type": "code",
   "execution_count": 70,
   "id": "maritime-advocacy",
   "metadata": {
    "execution": {
     "iopub.execute_input": "2021-05-05T16:30:34.776339Z",
     "iopub.status.busy": "2021-05-05T16:30:34.775523Z",
     "iopub.status.idle": "2021-05-05T16:30:34.778513Z",
     "shell.execute_reply": "2021-05-05T16:30:34.777872Z"
    },
    "papermill": {
     "duration": 0.09014,
     "end_time": "2021-05-05T16:30:34.778645",
     "exception": false,
     "start_time": "2021-05-05T16:30:34.688505",
     "status": "completed"
    },
    "tags": []
   },
   "outputs": [
    {
     "data": {
      "text/html": [
       "<style>#sk-container-id-2 {color: black;background-color: white;}#sk-container-id-2 pre{padding: 0;}#sk-container-id-2 div.sk-toggleable {background-color: white;}#sk-container-id-2 label.sk-toggleable__label {cursor: pointer;display: block;width: 100%;margin-bottom: 0;padding: 0.3em;box-sizing: border-box;text-align: center;}#sk-container-id-2 label.sk-toggleable__label-arrow:before {content: \"▸\";float: left;margin-right: 0.25em;color: #696969;}#sk-container-id-2 label.sk-toggleable__label-arrow:hover:before {color: black;}#sk-container-id-2 div.sk-estimator:hover label.sk-toggleable__label-arrow:before {color: black;}#sk-container-id-2 div.sk-toggleable__content {max-height: 0;max-width: 0;overflow: hidden;text-align: left;background-color: #f0f8ff;}#sk-container-id-2 div.sk-toggleable__content pre {margin: 0.2em;color: black;border-radius: 0.25em;background-color: #f0f8ff;}#sk-container-id-2 input.sk-toggleable__control:checked~div.sk-toggleable__content {max-height: 200px;max-width: 100%;overflow: auto;}#sk-container-id-2 input.sk-toggleable__control:checked~label.sk-toggleable__label-arrow:before {content: \"▾\";}#sk-container-id-2 div.sk-estimator input.sk-toggleable__control:checked~label.sk-toggleable__label {background-color: #d4ebff;}#sk-container-id-2 div.sk-label input.sk-toggleable__control:checked~label.sk-toggleable__label {background-color: #d4ebff;}#sk-container-id-2 input.sk-hidden--visually {border: 0;clip: rect(1px 1px 1px 1px);clip: rect(1px, 1px, 1px, 1px);height: 1px;margin: -1px;overflow: hidden;padding: 0;position: absolute;width: 1px;}#sk-container-id-2 div.sk-estimator {font-family: monospace;background-color: #f0f8ff;border: 1px dotted black;border-radius: 0.25em;box-sizing: border-box;margin-bottom: 0.5em;}#sk-container-id-2 div.sk-estimator:hover {background-color: #d4ebff;}#sk-container-id-2 div.sk-parallel-item::after {content: \"\";width: 100%;border-bottom: 1px solid gray;flex-grow: 1;}#sk-container-id-2 div.sk-label:hover label.sk-toggleable__label {background-color: #d4ebff;}#sk-container-id-2 div.sk-serial::before {content: \"\";position: absolute;border-left: 1px solid gray;box-sizing: border-box;top: 0;bottom: 0;left: 50%;z-index: 0;}#sk-container-id-2 div.sk-serial {display: flex;flex-direction: column;align-items: center;background-color: white;padding-right: 0.2em;padding-left: 0.2em;position: relative;}#sk-container-id-2 div.sk-item {position: relative;z-index: 1;}#sk-container-id-2 div.sk-parallel {display: flex;align-items: stretch;justify-content: center;background-color: white;position: relative;}#sk-container-id-2 div.sk-item::before, #sk-container-id-2 div.sk-parallel-item::before {content: \"\";position: absolute;border-left: 1px solid gray;box-sizing: border-box;top: 0;bottom: 0;left: 50%;z-index: -1;}#sk-container-id-2 div.sk-parallel-item {display: flex;flex-direction: column;z-index: 1;position: relative;background-color: white;}#sk-container-id-2 div.sk-parallel-item:first-child::after {align-self: flex-end;width: 50%;}#sk-container-id-2 div.sk-parallel-item:last-child::after {align-self: flex-start;width: 50%;}#sk-container-id-2 div.sk-parallel-item:only-child::after {width: 0;}#sk-container-id-2 div.sk-dashed-wrapped {border: 1px dashed gray;margin: 0 0.4em 0.5em 0.4em;box-sizing: border-box;padding-bottom: 0.4em;background-color: white;}#sk-container-id-2 div.sk-label label {font-family: monospace;font-weight: bold;display: inline-block;line-height: 1.2em;}#sk-container-id-2 div.sk-label-container {text-align: center;}#sk-container-id-2 div.sk-container {/* jupyter's `normalize.less` sets `[hidden] { display: none; }` but bootstrap.min.css set `[hidden] { display: none !important; }` so we also need the `!important` here to be able to override the default hidden behavior on the sphinx rendered scikit-learn.org. See: https://github.com/scikit-learn/scikit-learn/issues/21755 */display: inline-block !important;position: relative;}#sk-container-id-2 div.sk-text-repr-fallback {display: none;}</style><div id=\"sk-container-id-2\" class=\"sk-top-container\"><div class=\"sk-text-repr-fallback\"><pre>KNeighborsClassifier(p=1)</pre><b>In a Jupyter environment, please rerun this cell to show the HTML representation or trust the notebook. <br />On GitHub, the HTML representation is unable to render, please try loading this page with nbviewer.org.</b></div><div class=\"sk-container\" hidden><div class=\"sk-item\"><div class=\"sk-estimator sk-toggleable\"><input class=\"sk-toggleable__control sk-hidden--visually\" id=\"sk-estimator-id-2\" type=\"checkbox\" checked><label for=\"sk-estimator-id-2\" class=\"sk-toggleable__label sk-toggleable__label-arrow\">KNeighborsClassifier</label><div class=\"sk-toggleable__content\"><pre>KNeighborsClassifier(p=1)</pre></div></div></div></div></div>"
      ],
      "text/plain": [
       "KNeighborsClassifier(p=1)"
      ]
     },
     "execution_count": 70,
     "metadata": {},
     "output_type": "execute_result"
    }
   ],
   "source": [
    "# kneigborsclassifier\n",
    "from sklearn.neighbors import KNeighborsClassifier\n",
    "knn = KNeighborsClassifier(n_neighbors=5,p=1)\n",
    "knn.fit(X_res,y_res)"
   ]
  },
  {
   "cell_type": "code",
   "execution_count": 71,
   "id": "smooth-travel",
   "metadata": {
    "execution": {
     "iopub.execute_input": "2021-05-05T16:34:01.550197Z",
     "iopub.status.busy": "2021-05-05T16:34:01.549509Z",
     "iopub.status.idle": "2021-05-05T16:35:20.257651Z",
     "shell.execute_reply": "2021-05-05T16:35:20.257046Z"
    },
    "papermill": {
     "duration": 78.801346,
     "end_time": "2021-05-05T16:35:20.257810",
     "exception": false,
     "start_time": "2021-05-05T16:34:01.456464",
     "status": "completed"
    },
    "tags": []
   },
   "outputs": [],
   "source": [
    "knn_predict = knn.predict(X_test)"
   ]
  },
  {
   "cell_type": "code",
   "execution_count": 72,
   "id": "interior-peninsula",
   "metadata": {
    "execution": {
     "iopub.execute_input": "2021-05-05T16:35:20.431611Z",
     "iopub.status.busy": "2021-05-05T16:35:20.430644Z",
     "iopub.status.idle": "2021-05-05T16:35:21.824137Z",
     "shell.execute_reply": "2021-05-05T16:35:21.824604Z"
    },
    "papermill": {
     "duration": 1.481631,
     "end_time": "2021-05-05T16:35:21.824803",
     "exception": false,
     "start_time": "2021-05-05T16:35:20.343172",
     "status": "completed"
    },
    "tags": []
   },
   "outputs": [
    {
     "name": "stdout",
     "output_type": "stream",
     "text": [
      "Classification Report for K-Nearest Neighbours: \n",
      "               precision    recall  f1-score   support\n",
      "\n",
      "           0       1.00      0.99      0.99    193918\n",
      "           1       0.50      0.88      0.64      2315\n",
      "\n",
      "    accuracy                           0.99    196233\n",
      "   macro avg       0.75      0.94      0.82    196233\n",
      "weighted avg       0.99      0.99      0.99    196233\n",
      "\n",
      "Confusion Matrix of K-Nearest Neigbours: \n",
      " [[191899   2019]\n",
      " [   267   2048]]\n"
     ]
    },
    {
     "name": "stderr",
     "output_type": "stream",
     "text": [
      "C:\\Users\\Nab\\AppData\\Roaming\\Python\\Python39\\site-packages\\sklearn\\utils\\deprecation.py:87: FutureWarning: Function plot_confusion_matrix is deprecated; Function `plot_confusion_matrix` is deprecated in 1.0 and will be removed in 1.2. Use one of the class methods: ConfusionMatrixDisplay.from_predictions or ConfusionMatrixDisplay.from_estimator.\n",
      "  warnings.warn(msg, category=FutureWarning)\n"
     ]
    },
    {
     "data": {
      "image/png": "[encoded data removed]",
      "text/plain": [
       "<Figure size 432x288 with 2 Axes>"
      ]
     },
     "metadata": {
      "needs_background": "light"
     },
     "output_type": "display_data"
    }
   ],
   "source": [
    "from sklearn.metrics import plot_confusion_matrix, classification_report, confusion_matrix,roc_auc_score\n",
    "print(\"Classification Report for K-Nearest Neighbours: \\n\", classification_report(y_test, knn_predict))\n",
    "print(\"Confusion Matrix of K-Nearest Neigbours: \\n\", confusion_matrix(y_test,knn_predict)) \n",
    "plot_confusion_matrix(knn, X_test, y_test)  \n",
    "plt.show()"
   ]
  },
  {
   "cell_type": "code",
   "execution_count": 73,
   "id": "24639928",
   "metadata": {},
   "outputs": [
    {
     "name": "stderr",
     "output_type": "stream",
     "text": [
      "[Parallel(n_jobs=1)]: Using backend SequentialBackend with 1 concurrent workers.\n",
      "[Parallel(n_jobs=1)]: Done 100 out of 100 | elapsed:  2.2min finished\n",
      "[Parallel(n_jobs=1)]: Using backend SequentialBackend with 1 concurrent workers.\n",
      "[Parallel(n_jobs=1)]: Done 100 out of 100 | elapsed:    1.6s finished\n"
     ]
    },
    {
     "name": "stdout",
     "output_type": "stream",
     "text": [
      "Classification Report for Random Forest Classifier: \n",
      "               precision    recall  f1-score   support\n",
      "\n",
      "           0       1.00      0.96      0.98    193918\n",
      "           1       0.23      0.98      0.38      2315\n",
      "\n",
      "    accuracy                           0.96    196233\n",
      "   macro avg       0.62      0.97      0.68    196233\n",
      "weighted avg       0.99      0.96      0.97    196233\n",
      "\n",
      "Confusion Matrix of Random Forest Classifier: \n",
      " [[186355   7563]\n",
      " [    35   2280]]\n"
     ]
    }
   ],
   "source": [
    "# %% Random Forest Classifier\n",
    "from sklearn.ensemble import RandomForestClassifier\n",
    "rf_clf = RandomForestClassifier(n_estimators=100,max_depth=8,random_state=42,\n",
    "                                verbose=1,class_weight=\"balanced\")\n",
    "\n",
    "rf_clf.fit(X_res,y_res)\n",
    "\n",
    "\n",
    "rf_pred = rf_clf.predict(X_test)\n",
    "\n",
    "print(\"Classification Report for Random Forest Classifier: \\n\", classification_report(y_test, rf_pred))\n",
    "print(\"Confusion Matrix of Random Forest Classifier: \\n\", confusion_matrix(y_test,rf_pred))"
   ]
  },
  {
   "cell_type": "code",
   "execution_count": 74,
   "id": "83a7674d",
   "metadata": {},
   "outputs": [
    {
     "name": "stderr",
     "output_type": "stream",
     "text": [
      "C:\\Users\\Nab\\AppData\\Roaming\\Python\\Python39\\site-packages\\sklearn\\utils\\deprecation.py:87: FutureWarning: Function plot_confusion_matrix is deprecated; Function `plot_confusion_matrix` is deprecated in 1.0 and will be removed in 1.2. Use one of the class methods: ConfusionMatrixDisplay.from_predictions or ConfusionMatrixDisplay.from_estimator.\n",
      "  warnings.warn(msg, category=FutureWarning)\n",
      "[Parallel(n_jobs=1)]: Using backend SequentialBackend with 1 concurrent workers.\n",
      "[Parallel(n_jobs=1)]: Done 100 out of 100 | elapsed:    1.6s finished\n"
     ]
    },
    {
     "data": {
      "image/png": "[encoded data removed]",
      "text/plain": [
       "<Figure size 432x288 with 2 Axes>"
      ]
     },
     "metadata": {
      "needs_background": "light"
     },
     "output_type": "display_data"
    }
   ],
   "source": [
    "from sklearn.metrics import plot_confusion_matrix, accuracy_score\n",
    "plot_confusion_matrix(rf_clf, X_test, y_test)  \n",
    "plt.show()"
   ]
  },
  {
   "cell_type": "code",
   "execution_count": 75,
   "id": "b2858384",
   "metadata": {},
   "outputs": [
    {
     "name": "stdout",
     "output_type": "stream",
     "text": [
      "random forest test accuracy: 96.13%\n",
      "knn test accuracy: 98.84%\n"
     ]
    }
   ],
   "source": [
    "from sklearn.metrics import accuracy_score\n",
    "rf_acc = accuracy_score(rf_pred, y_test)\n",
    "print(\"random forest test accuracy: {:.2f}%\".format(rf_acc*100))\n",
    "knn_acc=accuracy_score(knn_predict,y_test)\n",
    "print(\"knn test accuracy: {:.2f}%\".format(knn_acc*100))"
   ]
  },
  {
   "cell_type": "code",
   "execution_count": 76,
   "id": "a35f5554",
   "metadata": {},
   "outputs": [
    {
     "name": "stdout",
     "output_type": "stream",
     "text": [
      "Classification Report for logistic regresssion : \n",
      "               precision    recall  f1-score   support\n",
      "\n",
      "           0       1.00      0.95      0.98    193918\n",
      "           1       0.19      0.88      0.31      2315\n",
      "\n",
      "    accuracy                           0.95    196233\n",
      "   macro avg       0.59      0.92      0.64    196233\n",
      "weighted avg       0.99      0.95      0.97    196233\n",
      "\n"
     ]
    }
   ],
   "source": [
    "# applying logistic model \n",
    "from sklearn.linear_model import LogisticRegression\n",
    "lr = LogisticRegression()\n",
    "lr.fit(X_res,y_res)\n",
    "y_predict = lr.predict(X_test)\n",
    "# Evaluation metrics \n",
    "from sklearn.metrics import confusion_matrix,classification_report\n",
    "print(\"Classification Report for logistic regresssion : \\n\", classification_report(y_test, y_predict))"
   ]
  },
  {
   "cell_type": "code",
   "execution_count": 77,
   "id": "44e74d7a",
   "metadata": {},
   "outputs": [],
   "source": [
    "# XGBoost\n",
    "from xgboost import XGBClassifier\n",
    "xgb = XGBClassifier()\n",
    "xgb.fit(X_res , y_res)\n",
    "xgb_predict = xgb.predict(X_test)\n"
   ]
  },
  {
   "cell_type": "code",
   "execution_count": 78,
   "id": "68385d26",
   "metadata": {},
   "outputs": [
    {
     "name": "stdout",
     "output_type": "stream",
     "text": [
      "Classification Report for XGBoost : \n",
      "               precision    recall  f1-score   support\n",
      "\n",
      "           0       1.00      0.99      0.99    193918\n",
      "           1       0.54      0.92      0.68      2315\n",
      "\n",
      "    accuracy                           0.99    196233\n",
      "   macro avg       0.77      0.96      0.84    196233\n",
      "weighted avg       0.99      0.99      0.99    196233\n",
      "\n"
     ]
    }
   ],
   "source": [
    "from sklearn.metrics import confusion_matrix,classification_report\n",
    "print(\"Classification Report for XGBoost : \\n\", classification_report(y_test, xgb_predict))"
   ]
  },
  {
   "cell_type": "code",
   "execution_count": 79,
   "id": "a1bab3b5",
   "metadata": {},
   "outputs": [
    {
     "name": "stderr",
     "output_type": "stream",
     "text": [
      "C:\\Users\\Nab\\AppData\\Roaming\\Python\\Python39\\site-packages\\sklearn\\utils\\deprecation.py:87: FutureWarning: Function plot_confusion_matrix is deprecated; Function `plot_confusion_matrix` is deprecated in 1.0 and will be removed in 1.2. Use one of the class methods: ConfusionMatrixDisplay.from_predictions or ConfusionMatrixDisplay.from_estimator.\n",
      "  warnings.warn(msg, category=FutureWarning)\n"
     ]
    },
    {
     "data": {
      "image/png": "[encoded data removed]",
      "text/plain": [
       "<Figure size 432x288 with 2 Axes>"
      ]
     },
     "metadata": {
      "needs_background": "light"
     },
     "output_type": "display_data"
    }
   ],
   "source": [
    "plot_confusion_matrix(xgb, X_test, y_test)  \n",
    "plt.show()"
   ]
  },
  {
   "cell_type": "code",
   "execution_count": null,
   "id": "e69061c8",
   "metadata": {},
   "outputs": [],
   "source": []
  }
 ],
 "metadata": {
  "kernelspec": {
   "display_name": "Python 3 (ipykernel)",
   "language": "python",
   "name": "python3"
  },
  "language_info": {
   "codemirror_mode": {
    "name": "ipython",
    "version": 3
   },
   "file_extension": ".py",
   "mimetype": "text/x-python",
   "name": "python",
   "nbconvert_exporter": "python",
   "pygments_lexer": "ipython3",
   "version": "3.9.12"
  },
  "papermill": {
   "default_parameters": {},
   "duration": 322.036783,
   "end_time": "2021-05-05T16:35:29.918109",
   "environment_variables": {},
   "exception": null,
   "input_path": "__notebook__.ipynb",
   "output_path": "__notebook__.ipynb",
   "parameters": {},
   "start_time": "2021-05-05T16:30:07.881326",
   "version": "2.3.3"
  }
 },
 "nbformat": 4,
 "nbformat_minor": 5
}
